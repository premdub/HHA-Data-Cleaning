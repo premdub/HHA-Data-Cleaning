{
  "nbformat": 4,
  "nbformat_minor": 0,
  "metadata": {
    "colab": {
      "provenance": [],
      "collapsed_sections": [],
      "authorship_tag": "ABX9TyOtpclV2kTVa4tqe0EDSLMY",
      "include_colab_link": true
    },
    "kernelspec": {
      "name": "python3",
      "display_name": "Python 3"
    },
    "language_info": {
      "name": "python"
    }
  },
  "cells": [
    {
      "cell_type": "markdown",
      "metadata": {
        "id": "view-in-github",
        "colab_type": "text"
      },
      "source": [
        "<a href=\"https://colab.research.google.com/github/premdub/HHA-Data-Cleaning/blob/main/clean_data.ipynb\" target=\"_parent\"><img src=\"https://colab.research.google.com/assets/colab-badge.svg\" alt=\"Open In Colab\"/></a>"
      ]
    },
    {
      "cell_type": "code",
      "execution_count": null,
      "metadata": {
        "colab": {
          "base_uri": "https://localhost:8080/"
        },
        "id": "epkRK9A9zCsM",
        "outputId": "a4ae55ea-518f-40c2-d71a-b439e2e5ad84"
      },
      "outputs": [
        {
          "output_type": "stream",
          "name": "stdout",
          "text": [
            "Cloning into 'HHA-Data-Cleaning'...\n",
            "remote: Enumerating objects: 19, done.\u001b[K\n",
            "remote: Counting objects: 100% (19/19), done.\u001b[K\n",
            "remote: Compressing objects: 100% (16/16), done.\u001b[K\n",
            "remote: Total 19 (delta 2), reused 0 (delta 0), pack-reused 0\u001b[K\n",
            "Unpacking objects: 100% (19/19), done.\n"
          ]
        }
      ],
      "source": [
        "!git clone https://github.com/premdub/HHA-Data-Cleaning.git"
      ]
    },
    {
      "cell_type": "code",
      "source": [
        "import pandas as pd\n",
        "import datetime as dt\n",
        "import uuid \n",
        "import numpy as np\n"
      ],
      "metadata": {
        "id": "-7M8lzfJzQfj"
      },
      "execution_count": null,
      "outputs": []
    },
    {
      "cell_type": "code",
      "source": [
        "# load in data \n",
        "df = pd.read_csv(\"/content/HHA-Data-Cleaning/Data/School_Learning_Modalities.csv\")\n",
        "\n",
        "df"
      ],
      "metadata": {
        "id": "eqb_NWqtzTHx"
      },
      "execution_count": null,
      "outputs": []
    },
    {
      "cell_type": "code",
      "source": [
        "##count of columns and rows \n",
        "countRows, countColumns = df.shape\n",
        "df.shape"
      ],
      "metadata": {
        "id": "bnl4taM-zWh3"
      },
      "execution_count": null,
      "outputs": []
    },
    {
      "cell_type": "code",
      "source": [
        "# get a count of the number of rows and columns\n",
        "countRows, countColumns = df.shape\n",
        "\n",
        "# preview get random sample of 25 rows\n",
        "df.sample(25)"
      ],
      "metadata": {
        "id": "wu5q3JWWzeb0"
      },
      "execution_count": null,
      "outputs": []
    },
    {
      "cell_type": "code",
      "source": [
        "# print out of the column names \n",
        "\n",
        "df.columns \n"
      ],
      "metadata": {
        "id": "pzbDNn8Uzf-3"
      },
      "execution_count": null,
      "outputs": []
    },
    {
      "cell_type": "code",
      "source": [
        "## clean the data\n",
        "# list columns\n",
        "list(df)\n",
        "\n",
        "\n",
        "############## COLUMN NAMES ##############\n",
        "############## COLUMN NAMES ##############\n",
        "############## COLUMN NAMES ##############\n",
        "\n",
        "df.columns \n",
        "column_names = list(df)\n",
        "\n",
        "# Cleans the strings that might exist within each column  (YES)\n",
        "## remove all special characters and whitespace ' ' from column names  \n",
        "df.columns = df.columns.str.replace('[^A-Za-z0-9]+', '_') ## regex \n",
        "list(df)"
      ],
      "metadata": {
        "id": "cSizzlGszi2a"
      },
      "execution_count": null,
      "outputs": []
    },
    {
      "cell_type": "code",
      "source": [
        "# initializing list \n",
        "list(df)\n",
        "special_characters = \"!@#$%^&*()-+?_=,<>/\"\n",
        "\n",
        "# printing original list\n",
        "print(\"The original list is : \" + str(df))\n",
        "  \n",
        "# Check for Special_Character  in List\n",
        "# Using in operator + any()\n",
        "\n",
        "res = any(special_characters in ele for ele in (df))\n",
        "# printing result \n",
        "\n",
        "print(\"Does any string contain special_characters ? : \" + str(res))"
      ],
      "metadata": {
        "id": "qg0qkB0RznH7"
      },
      "execution_count": null,
      "outputs": []
    },
    {
      "cell_type": "code",
      "source": [
        "## Assess White_space  (YES)\n",
        "import re\n",
        "  \n",
        "# initializing list \n",
        "list(df)\n",
        "  \n",
        "# printing original list\n",
        "print(\"The original list is : \" + str(df))\n",
        "  \n",
        "# Check for Whitespace in List\n",
        "# Using in operator + any()\n",
        "\n",
        "res = any('' in ele for ele in (df))\n",
        "# printing result \n",
        "\n",
        "print(\"Does any string contain white spaces ? : \" + str(res))"
      ],
      "metadata": {
        "id": "xkGF2HFR1CwV"
      },
      "execution_count": null,
      "outputs": []
    },
    {
      "cell_type": "code",
      "source": [
        "#Converts the column types to the correct types\n",
        "df\n",
        "df.columns\n",
        "df.infer_objects().dtypes"
      ],
      "metadata": {
        "id": "JddqdL1-1Udg"
      },
      "execution_count": null,
      "outputs": []
    },
    {
      "cell_type": "code",
      "source": [
        "## Look for duplicate rows and remove duplicate rows\n",
        "df = pd.read_csv(\"/content/HHA-Data-Cleaning/Data/School_Learning_Modalities.csv\")\n",
        "\n",
        "df\n"
      ],
      "metadata": {
        "id": "hcFxftw-2CWO"
      },
      "execution_count": null,
      "outputs": []
    },
    {
      "cell_type": "code",
      "source": [
        "#drop duplicate rows\n",
        "df.drop_duplicates()"
      ],
      "metadata": {
        "id": "vfbfHoK22e9C"
      },
      "execution_count": null,
      "outputs": []
    },
    {
      "cell_type": "code",
      "source": [
        "#Assess missingness (count of missing values per column) (YES)\n",
        "# get a count of missing values in each column\n",
        "df.isnull().sum()"
      ],
      "metadata": {
        "id": "NNTnc_F32jEW"
      },
      "execution_count": null,
      "outputs": []
    },
    {
      "cell_type": "code",
      "source": [
        " #New data field: attempt to create a new column called modality_inperson.  This\n",
        "###column should contain a binary value of true or false. Try to write a function that takes in the old column\n",
        "##name (learning modality), and recodes the value for a specific row to true, if\n",
        "##the learning modality value is ‘in-person’, and recodes it to false if the value\n",
        "## is either ‘remote’ or ‘hybrid’\n",
        "\n",
        "df['Modality_Inperson'] = df['learning_modality'].apply(lambda x : 'In Person' if 'false' in x else 'true')\n",
        "print (df[{'Modality_Inperson', 'learning_modality'}])"
      ],
      "metadata": {
        "id": "ikbyKGkJ2mwx"
      },
      "execution_count": null,
      "outputs": []
    }
  ]
}